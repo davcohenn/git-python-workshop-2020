{
 "cells": [
  {
   "cell_type": "markdown",
   "metadata": {},
   "source": [
    "# Virtual Environment Setup\n",
    "adapted from: https://github.com/FNALLPC/machine-learning-hats/blob/master/0-setup-libraries.ipynb, thanks!"
   ]
  },
  {
   "cell_type": "markdown",
   "metadata": {},
   "source": [
    "Run the following cell.  This will allow you to use a conda virtual environment in the `bellcs1` directory.  This virtual environment has pandas, numpy, seaborn, and nbdev installed with dependencies."
   ]
  },
  {
   "cell_type": "code",
   "execution_count": null,
   "metadata": {},
   "outputs": [],
   "source": [
    "%%bash\n",
    "KERNEL_NAME=\"git-python-workshop\"\n",
    "\n",
    "set -e\n",
    "\n",
    "# Make a wrapper script to load miniconda python\n",
    "echo \"Loading miniconda python...\"\n",
    "if [[ ! -f python_wrapper.sh ]]; then\n",
    "cat << 'EOF' > python_wrapper.sh\n",
    "#!/bin/bash\n",
    "source /home/bellcs1/miniconda3/etc/profile.d/conda.sh\n",
    "conda activate git-python-workshop\n",
    "exec python \"$@\"\n",
    "EOF\n",
    "chmod +x python_wrapper.sh\n",
    "fi\n",
    "\n",
    "# Create the kernel\n",
    "echo \"Creating kernel...\"\n",
    "if [[ ! -d $HOME/.local/share/jupyter/kernels/$KERNEL_NAME ]]; then\n",
    "mkdir -p \"$HOME/.local/share/jupyter/kernels/$KERNEL_NAME\"\n",
    "cat << EOF > \"$HOME/.local/share/jupyter/kernels/$KERNEL_NAME/kernel.json\"\n",
    "{\n",
    " \"display_name\": \"$KERNEL_NAME\", \n",
    " \"language\": \"python\", \n",
    " \"argv\": [\n",
    "  \"/home/bellcs1/python_wrapper.sh\", \n",
    "  \"-m\", \n",
    "  \"ipykernel_launcher\", \n",
    "  \"-f\", \n",
    "  \"{connection_file}\"\n",
    " ]\n",
    "}\n",
    "EOF\n",
    "fi\n",
    "\n",
    "# Report OK\n",
    "echo \"Loaded $KERNEL_NAME!\""
   ]
  },
  {
   "cell_type": "markdown",
   "metadata": {},
   "source": [
    "Run the following command if you need to fix merge conflicts within your notebooks!"
   ]
  },
  {
   "cell_type": "code",
   "execution_count": null,
   "metadata": {},
   "outputs": [],
   "source": [
    "%%bash\n",
    "source /home/bellcs1/miniconda3/etc/profile.d/conda.sh\n",
    "conda activate git-python-workshop\n",
    "nbdev_fix_merge 10-git-python.ipynb"
   ]
  }
 ],
 "metadata": {
  "kernelspec": {
   "display_name": "Python 3",
   "language": "python",
   "name": "python3"
  },
  "language_info": {
   "codemirror_mode": {
    "name": "ipython",
    "version": 3
   },
   "file_extension": ".py",
   "mimetype": "text/x-python",
   "name": "python",
   "nbconvert_exporter": "python",
   "pygments_lexer": "ipython3",
   "version": "3.4.9"
  }
 },
 "nbformat": 4,
 "nbformat_minor": 2
}
