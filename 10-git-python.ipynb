{
 "cells": [
  {
   "cell_type": "markdown",
   "metadata": {},
   "source": [
    "# Advanced Command Line Git\n",
    "## Helpful tips and tricks\n",
    "Here, we'll be integrating a data science workflow with git.  There are two main things to remember.\n",
    "\n",
    "**1.  Before doing any git work, make sure you've SAVED your notebook.  You can do this by typing CTRL+S or Command+S, clicking on the floppy disk, or File->Save.**\n",
    "\n",
    "**2.  We're using a package called `nbdev` to save us a bit of struggle with using Jupyter notebooks.  Run the nbdev commands before anything that would require you to push to the remote repository.  Reload the page after running these commands.  If the browser asks you whether you want to reload or overwrite, choose RELOAD.**\n",
    "\n",
    "**References:** This notebook is based on the book \"Oh Shit, Git!\" by Katie Sylor-Miller and Julia Evans.  For more information, see the [Oh Shit, Git!](https://ohshitgit.com)!"
   ]
  },
  {
   "cell_type": "markdown",
   "metadata": {},
   "source": [
    "Here, we'll use the seaborn planets dataset and do a little investigating analysis using Pandas.  If you've forgotten or are unfamiliar with any of the code, please feel free to _directly reference_ (i.e., copy/paste) the solutions or adapt from the reference code [here.](https://github.com/vanderbilt-data-science/srp-python-2020/blob/master/04.00-DS-with-Python-solns.ipynb)"
   ]
  },
  {
   "cell_type": "code",
   "execution_count": null,
   "metadata": {},
   "outputs": [],
   "source": [
    "#import statements\n",
    "import pandas as pd\n",
    "import numpy as np\n",
    "import seaborn as sns"
   ]
  },
  {
   "cell_type": "markdown",
   "metadata": {},
   "source": [
    "## Loading and basic data overview"
   ]
  },
  {
   "cell_type": "code",
   "execution_count": null,
   "metadata": {},
   "outputs": [],
   "source": [
    "#load data\n",
    "planets = sns.load_dataset('planets')"
   ]
  },
  {
   "cell_type": "code",
   "execution_count": null,
   "metadata": {},
   "outputs": [],
   "source": [
    "# Get a preview of the data\n",
    "planets.head(10)"
   ]
  },
  {
   "cell_type": "code",
   "execution_count": null,
   "metadata": {},
   "outputs": [],
   "source": [
    "# Get some info\n",
    "planets.info()"
   ]
  },
  {
   "cell_type": "code",
   "execution_count": null,
   "metadata": {},
   "outputs": [],
   "source": [
    "# Stats about the dataset\n",
    "planets.describe()"
   ]
  },
  {
   "cell_type": "code",
   "execution_count": null,
   "metadata": {},
   "outputs": [],
   "source": [
    "#Count na values\n",
    "planets.isnull().sum()"
   ]
  },
  {
   "cell_type": "markdown",
   "metadata": {},
   "source": [
    "## Working with git: warmup\n",
    "Here, we're going to just review how to add and commit changes!\n",
    "\n",
    "Add an extra 0 to the following line: so that the `10` at the end is `100`.  Run that cell and the cell that follows.  Save the document.  Now, we'll commit that change.  We do this by typing the following commands:\n",
    "\n",
    "```\n",
    "git add .\n",
    "git commit -m \"added decade column to divide by 100\"\n",
    "git push origin master\n",
    "```"
   ]
  },
  {
   "cell_type": "code",
   "execution_count": null,
   "metadata": {},
   "outputs": [],
   "source": [
    "#mutate new column decade\n",
    "planets['decade'] = 10*(planets['year']//10)"
   ]
  },
  {
   "cell_type": "markdown",
   "metadata": {},
   "source": [
    "## Working with git: merge conflicts\n",
    "### Handling missing values\n",
    "In this section, we'll look at two ways to deal with missing values.  One way is just to completely drop the missing values.  Another way might be to use mean imputation.\n",
    "\n",
    "**Partner 1**: Fill in the following cell with code to drop rows with any missing values (see reference cell 16).  \n",
    "**Partner 2**: Fill in the following cell with the code to do mean imputation to fill in the missing values (see reference cell 13).\n",
    "\n",
    "You can do both of these things inplace using the `inplace` keyword."
   ]
  },
  {
   "cell_type": "code",
   "execution_count": null,
   "metadata": {},
   "outputs": [],
   "source": []
  },
  {
   "cell_type": "code",
   "execution_count": null,
   "metadata": {},
   "outputs": [],
   "source": [
    "%%bash\n",
    "source /home/bellcs1/miniconda3/etc/profile.d/conda.sh\n",
    "conda activate git-python-workshop\n",
    "nbdev_clean_nbs"
   ]
  },
  {
   "cell_type": "markdown",
   "metadata": {},
   "source": [
    "The following code can be used to resolve the merge conflict if desired."
   ]
  },
  {
   "cell_type": "code",
   "execution_count": null,
   "metadata": {},
   "outputs": [],
   "source": [
    "%%bash\n",
    "source /home/bellcs1/miniconda3/etc/profile.d/conda.sh\n",
    "conda activate git-python-workshop\n",
    "nbdev_fix_merge 10-git-python.ipynb"
   ]
  },
  {
   "cell_type": "markdown",
   "metadata": {},
   "source": [
    "Don't forget to refresh the page after running the above cell! \n",
    "\n",
    "**Partner 1**: add, commit, and push your changes.  \n",
    "**Partner 2**: add and commit your changes.  After committing, run `git pull`.  Oh no, a merge conflict!  You might need your partner to help you with the following instructions.  Does your notebook even open anymore?  Go back to to `setup.ipynb` and run the last cell, or use the cell in the solutions.  Now, try to open your notebook.\n",
    "\n",
    "In it, you should see a set of arrows separated by a code chunk, another set of arrows, another code chunk, and another set of arrows.  These are the conflicting areas of your code.  The code between the first set of arrows is your code, and the code between the second set of arrows is the remote repo code.  Choose to keep the cell which performs the mean imputation.  Delete all of the surrounding arrows.\n",
    "\n",
    "Now that that has been resolved, save, run the following cell, and then add, commit, and push your changes.\n",
    "\n",
    "**Partner 1:** run `git pull` after Partner 2 has finished to get the most recent version of the code."
   ]
  },
  {
   "cell_type": "code",
   "execution_count": null,
   "metadata": {},
   "outputs": [],
   "source": [
    "%%bash\n",
    "source /home/bellcs1/miniconda3/etc/profile.d/conda.sh\n",
    "conda activate git-python-workshop\n",
    "nbdev_clean_nbs"
   ]
  },
  {
   "cell_type": "markdown",
   "metadata": {},
   "source": [
    "## Working with git: `git stash`\n",
    "There are many scenarios in which you'd want to use git stash.  Sometimes, you can be working on some particular part of the code and there are some changes in the remote repository that you want to pull down now.  However, you're midway through your work and don't want to make a commit of your local changes.\n",
    "\n",
    "Another scenario is that you're midway working through some code changes, and realize that you want to make a commit of some files or parts of files and not all of them.  Here's how you can do that!\n",
    "\n",
    "**Partner 1:** Fill in the `#Partner 1` cell to compute the two columns `orbital_yr` and `orbital_weeks` (cell 31 of reference).  When you're finished, add, commit, and push your changes to the remote repository.  \n",
    "**Partner 2:** Fill in the `#Partner 2` cell to generate the `method_min` column (cell 34 of reference).  **After** your partner has committed their changes, type the following:\n",
    "\n",
    "```\n",
    "git stash\n",
    "git pull\n",
    "```\n",
    "\n",
    "Now, you'll have the new code from the remote repo.  Now, you can type `git stash pop`.  Resolve merge conflicts if necessary.  Now, add, commit, and push your changes.\n",
    "\n",
    "**Partner 1:** Make sure to pull the fresh changes from the repo."
   ]
  },
  {
   "cell_type": "code",
   "execution_count": null,
   "metadata": {},
   "outputs": [],
   "source": [
    "#Partner 1\n"
   ]
  },
  {
   "cell_type": "code",
   "execution_count": null,
   "metadata": {},
   "outputs": [],
   "source": [
    "%%bash\n",
    "source /home/bellcs1/miniconda3/etc/profile.d/conda.sh\n",
    "conda activate git-python-workshop\n",
    "nbdev_clean_nbs"
   ]
  },
  {
   "cell_type": "code",
   "execution_count": null,
   "metadata": {},
   "outputs": [],
   "source": [
    "#Partner 2\n"
   ]
  },
  {
   "cell_type": "code",
   "execution_count": null,
   "metadata": {},
   "outputs": [],
   "source": [
    "%%bash\n",
    "source /home/bellcs1/miniconda3/etc/profile.d/conda.sh\n",
    "conda activate git-python-workshop\n",
    "nbdev_clean_nbs"
   ]
  },
  {
   "cell_type": "markdown",
   "metadata": {},
   "source": [
    "## Working with git: changing commit messages\n",
    "Sometimes, you make a mistake in your commit message locally and you want to change it!  Let's see how we can do this.  First, we'll make a small change to the code and do a commit on our local branch.\n",
    "\n",
    "The change we'll make is to mutate a new column called `decade`."
   ]
  },
  {
   "cell_type": "code",
   "execution_count": null,
   "metadata": {},
   "outputs": [],
   "source": [
    "#mutate new column decade\n"
   ]
  },
  {
   "cell_type": "markdown",
   "metadata": {},
   "source": [
    "Use the commit message \"closes issue #3\""
   ]
  },
  {
   "cell_type": "markdown",
   "metadata": {},
   "source": [
    "#### Changing commit messages\n",
    "If you use GitHub Issues, you may know that you can close issues with commits.  However, due to formatting issues, the above commit message would not close the commit!  You may catch this before you push up to the remote repository.  To change the last local commit message at the command line, type:\n",
    "\n",
    "`git commit --amend -m \"adds decade col to df and closes #3`\n",
    "\n",
    "This amends your most recent local commit with the commit message you specify using the `-m` command.\n",
    "\n",
    "#### Changing commit message after pushing to the remote\n",
    "You can also change the commit message after pushing to the remote, but this isn't a really great thing for a collaborative repository.  Changing the commit message also changes the commit hash, and so already pulled versions on your collaborators' local machines will have a different commit history.  Proceed at your own peril!  Descriptions of how to do this will not be provided here!"
   ]
  },
  {
   "cell_type": "markdown",
   "metadata": {},
   "source": [
    "## Working with git: Removing uncommitted changes\n",
    "\n",
    "There are many scenarios in which you'd want to remove your uncommitted changes.  Maybe you've changed a file and your pursuits didn't work out.  Maybe you haven't made many relevant changes and just want to replace the code with the original.  Here's how you can do that!\n",
    "\n",
    "Whoops, maybe we made the following change in a cell, incorrectly computing something.  Maybe there's a whole trail of errors and we just want to get rid of it, and replace it with the most recent local version in the repo.\n",
    "\n",
    "**Try it yourself!**  Fill in the following cell with code to compute fictitious columns `x10` and `dist_mi` (cell 32 of reference)"
   ]
  },
  {
   "cell_type": "code",
   "execution_count": null,
   "metadata": {},
   "outputs": [],
   "source": []
  },
  {
   "cell_type": "markdown",
   "metadata": {},
   "source": [
    "Having decided that we want to trash these uncommitted changes, we can just run the following command:\n",
    "`git checkout origin/master 10-git-python-solns`.  This will give us the version of the code from `origin/master` in our local git repo.  Run this command now and check that the previous cell is now empty.\n",
    "\n",
    "If we made LOTS of changes in lots of files and wanted to trash them, we could instead, just use our local branch of interest (here `origin/master`) by `git reset --hard origin/master`."
   ]
  },
  {
   "cell_type": "markdown",
   "metadata": {},
   "source": [
    "## Working with git: reverting commits\n",
    "If you've noticed, the first commit we ever made was a mistake!  Decade should be divided by 10, not 100!  How can we undo this change?\n",
    "\n",
    "We can use `git revert`.  This will create a patch that will undo that change and add it as a new commit.  To do this, we need to first find the commit hash in which we did this.  We can use `git log` to do this.\n",
    "\n",
    "**Try it yourself!**\n",
    "Find the commit that you want to revert using `git log`.  Read the commit messages; this is why it is extremely helpful to write good commit messages.  Find the first 8 digits of the commit hash.  In this example, the commit hash is `f845de23`.  Then type:\n",
    "\n",
    "`git revert f845de23`\n",
    "\n",
    "Now, enter a commit message and the bad commit is patched!"
   ]
  },
  {
   "cell_type": "markdown",
   "metadata": {},
   "source": [
    "## Working with git: moving commits to other branches\n",
    "Since most of our workflows use the GitHub workflow, sometimes, we're accidentally on the wrong branch and make all of our commits!  How can we fix this?\n",
    "\n",
    "### Setting the stage\n",
    "Let's first make a new branch using the command:\n",
    "`git branch method_branch`\n",
    "\n",
    "Let's make a commit.  Use cell #38 of the reference to do a `group_by` of the different methods and display the counts of each of the different types.  Add, and commit your changes.  Then type `git branch`."
   ]
  },
  {
   "cell_type": "code",
   "execution_count": null,
   "metadata": {},
   "outputs": [],
   "source": [
    "#We can also return a particular column\n"
   ]
  },
  {
   "cell_type": "markdown",
   "metadata": {},
   "source": [
    "Whoops, we were on the wrong branch when we made our commits!!  How can we change this?  We're going to use the `cherry-pick` command, which can make a new commit with the same changes, but to a different parent.  First, find the hash of the commit you want using `git log branch`.  Our command would be `git log master`.  Assuming our commit has hash `de45e3a8`, we can use the following commands:\n",
    "\n",
    "`git checkout method_branch` checks out the new branch  \n",
    "`git cherry-pick de45e3a8` gets the commit and adds it to the current branch\n",
    "`git checkout master` checks out the branch we accidentally committed to\n",
    "`git reset --hard HEAD^` deletes the most recent commit from the branch we're on (master)\n",
    "\n",
    "Note that if you have uncommitted changes, `git reset --hard` will delete them.  Run `git stash` to save uncommitted changes if you have them and you want to keep them."
   ]
  },
  {
   "cell_type": "markdown",
   "metadata": {},
   "source": [
    "## Working with git: git history\n",
    "`git reflog` logs everything you do with git so you can always undo your changes.  `git reflog`'s output shows the most recent actions first.  To roll back to a different action, you can type:\n",
    "\n",
    "git reset --hard HASH\n",
    "or\n",
    "git reset --hard HEAD@{number},\n",
    "\n",
    "where HASH and `number` are the commits BEFORE the terrible action taken."
   ]
  }
 ],
 "metadata": {
  "kernelspec": {
   "display_name": "git-python-workshop",
   "language": "python",
   "name": "git-python-workshop"
  },
  "language_info": {
   "codemirror_mode": {
    "name": "ipython",
    "version": 3
   },
   "file_extension": ".py",
   "mimetype": "text/x-python",
   "name": "python",
   "nbconvert_exporter": "python",
   "pygments_lexer": "ipython3",
   "version": "3.7.7"
  }
 },
 "nbformat": 4,
 "nbformat_minor": 2
}
